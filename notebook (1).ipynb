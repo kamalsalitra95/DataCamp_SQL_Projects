{
 "cells": [
  {
   "cell_type": "markdown",
   "id": "3b05e587-87e3-4bec-9511-ddaae6552ac4",
   "metadata": {},
   "source": [
    "![Illustration of silhouetted heads](mentalhealth.jpg)"
   ]
  },
  {
   "cell_type": "markdown",
   "id": "dbd633ea-2c0a-4bac-a6fe-0cc86896162b",
   "metadata": {},
   "source": [
    "Does going to university in a different country affect your mental health? A Japanese international university surveyed its students in 2018 and published a study the following year that was approved by several ethical and regulatory boards.\n",
    "\n",
    "The study found that international students have a higher risk of mental health difficulties than the general population, and that social connectedness (belonging to a social group) and acculturative stress (stress associated with joining a new culture) are predictive of depression.\n",
    "\n",
    "\n",
    "Explore the `students` data using PostgreSQL to find out if you would come to a similar conclusion for international students and see if the length of stay is a contributing factor.\n",
    "\n",
    "Here is a data description of the columns you may find helpful."
   ]
  },
  {
   "cell_type": "markdown",
   "id": "167d9c0e-7aba-4e44-99e3-679159e28970",
   "metadata": {
    "jupyter": {
     "outputs_hidden": false,
     "source_hidden": false
    }
   },
   "source": [
    "| Field Name    | Description                                      |\n",
    "| ------------- | ------------------------------------------------ |\n",
    "| `inter_dom`     | Types of students (international or domestic)   |\n",
    "| `japanese_cate` | Japanese language proficiency                    |\n",
    "| `english_cate`  | English language proficiency                     |\n",
    "| `academic`      | Current academic level (undergraduate or graduate) |\n",
    "| `age`           | Current age of student                           |\n",
    "| `stay`          | Current length of stay in years                  |\n",
    "| `todep`         | Total score of depression (PHQ-9 test)           |\n",
    "| `tosc`          | Total score of social connectedness (SCS test)   |\n",
    "| `toas`          | Total score of acculturative stress (ASISS test) |"
   ]
  },
  {
   "cell_type": "code",
   "execution_count": 2,
   "id": "a60a4d75-634c-4965-8e01-804780e6df98",
   "metadata": {
    "customType": "sql",
    "dataFrameVariableName": "students",
    "executionCancelledAt": null,
    "executionTime": 1112,
    "jupyter": {
     "outputs_hidden": false,
     "source_hidden": false
    },
    "lastExecutedAt": 1755398931481,
    "lastExecutedByKernel": "b4eac42f-fdea-4c97-af3e-d693f854cf79",
    "lastScheduledRunId": null,
    "lastSuccessfullyExecutedCode": "-- Run this code to view the data in students\nSELECT * \nFROM students\nLIMIT 20;",
    "outputsMetadata": {
     "0": {
      "chartState": {
       "chartModel": {
        "cellRange": {
         "columns": [],
         "rowEndIndex": null,
         "rowEndPinned": null,
         "rowStartIndex": null,
         "rowStartPinned": null
        },
        "chartId": "id-ilw7jt3n0p9",
        "chartOptions": {
         "common": {
          "animation": {
           "enabled": true
          }
         }
        },
        "chartPalette": {
         "altDown": {
          "fill": "#ffa03a",
          "stroke": "#cc6f10"
         },
         "altNeutral": {
          "fill": "#b5b5b5",
          "stroke": "#575757"
         },
         "altUp": {
          "fill": "#5090dc",
          "stroke": "#2b5c95"
         },
         "down": {
          "fill": "#ef5452",
          "stroke": "#a82529"
         },
         "fills": [
          "#6568A0",
          "#43D7A4",
          "#4095DB",
          "#FACC5F",
          "#CAE279",
          "#F08083",
          "#5BCDF2",
          "#F099DC",
          "#965858",
          "#7DB64F",
          "#A98954"
         ],
         "neutral": {
          "fill": "#b5b5b5",
          "stroke": "#575757"
         },
         "strokes": [
          "#6568A0",
          "#43D7A4",
          "#4095DB",
          "#FACC5F",
          "#CAE279",
          "#F08083",
          "#5BCDF2",
          "#F099DC",
          "#965858",
          "#7DB64F",
          "#A98954"
         ],
         "up": {
          "fill": "#459d55",
          "stroke": "#1e652e"
         }
        },
        "chartThemeName": "datalabTheme",
        "chartType": "groupedColumn",
        "modelType": "range",
        "suppressChartRanges": false,
        "switchCategorySeries": false,
        "unlinkChart": false,
        "version": "32.2.2"
       },
       "rangeChartModel": {
        "rangeColumns": [],
        "switchCategorySeries": false
       }
      },
      "height": 550,
      "tableState": {
       "columnVisibility": {
        "hiddenColIds": []
       }
      },
      "type": "dataFrame"
     }
    },
    "sqlCellMode": "dataFrame",
    "sqlSource": {
     "integrationId": "89e17161-a224-4a8a-846b-0adc0fe7a4b1",
     "integrationType": "postgresql",
     "type": "integration"
    },
    "version": "ag-charts-v1",
    "visualizeDataframe": false
   },
   "outputs": [
    {
     "ename": "SyntaxError",
     "evalue": "invalid syntax (3039253653.py, line 1)",
     "output_type": "error",
     "traceback": [
      "\u001b[1;36m  Input \u001b[1;32mIn [2]\u001b[1;36m\u001b[0m\n\u001b[1;33m    -- Run this code to view the data in students\u001b[0m\n\u001b[1;37m           ^\u001b[0m\n\u001b[1;31mSyntaxError\u001b[0m\u001b[1;31m:\u001b[0m invalid syntax\n"
     ]
    }
   ],
   "source": [
    "-- Run this code to view the data in students\n",
    "SELECT * \n",
    "FROM students\n",
    "LIMIT 10;"
   ]
  },
  {
   "cell_type": "code",
   "execution_count": 3,
   "id": "091a6128-43a7-4ff1-a78c-8202316e35ed",
   "metadata": {
    "customType": "sql",
    "dataFrameVariableName": "df",
    "executionCancelledAt": null,
    "executionTime": 1106,
    "lastExecutedAt": 1755398932587,
    "lastExecutedByKernel": "b4eac42f-fdea-4c97-af3e-d693f854cf79",
    "lastScheduledRunId": null,
    "lastSuccessfullyExecutedCode": "SELECT stay, COUNT(inter_dom) AS count_int, ROUND(AVG(todep),2) AS average_phq, ROUND(AVG(tosc),2) AS average_scs,ROUND(AVG(toas),2)AS average_as\nFROM students\nWHERE inter_dom = 'Inter'\nGROUP BY stay\nORDER BY stay DESC\nLIMIT 9;\n",
    "outputsMetadata": {
     "0": {
      "height": 550,
      "tableState": {},
      "type": "dataFrame"
     }
    },
    "sqlCellMode": "dataFrame",
    "sqlSource": {
     "integrationId": "89e17161-a224-4a8a-846b-0adc0fe7a4b1",
     "integrationType": "postgresql",
     "type": "integration"
    }
   },
   "outputs": [
    {
     "@datacamp/metadata": {
      "executedQuery": "SELECT stay, COUNT(inter_dom) AS count_int, ROUND(AVG(todep),2) AS average_phq, ROUND(AVG(tosc),2) AS average_scs,ROUND(AVG(toas),2)AS average_as\nFROM students\nWHERE inter_dom = 'Inter'\nGROUP BY stay\nORDER BY stay DESC\nLIMIT 9;",
      "executedQueryParameters": []
     },
     "data": {
      "application/com.datacamp.data-table.v2+json": {
       "table": {
        "data": {
         "average_as": [
          50,
          65,
          45,
          58.67,
          91,
          87.71,
          78,
          77.67,
          72.8
         ],
         "average_phq": [
          13,
          10,
          4,
          6,
          0,
          8.57,
          9.09,
          8.28,
          7.48
         ],
         "average_scs": [
          32,
          44,
          48,
          38,
          34,
          33.93,
          37.13,
          37.08,
          38.11
         ],
         "count_int": [
          1,
          1,
          1,
          3,
          1,
          14,
          46,
          39,
          95
         ],
         "index": [
          0,
          1,
          2,
          3,
          4,
          5,
          6,
          7,
          8
         ],
         "stay": [
          10,
          8,
          7,
          6,
          5,
          4,
          3,
          2,
          1
         ]
        },
        "schema": {
         "fields": [
          {
           "name": "index",
           "type": "integer"
          },
          {
           "name": "stay",
           "type": "integer"
          },
          {
           "name": "count_int",
           "type": "integer"
          },
          {
           "name": "average_phq",
           "type": "number"
          },
          {
           "name": "average_scs",
           "type": "number"
          },
          {
           "name": "average_as",
           "type": "number"
          }
         ],
         "pandas_version": "1.4.0",
         "primaryKey": [
          "index"
         ]
        }
       },
       "total_rows": 9,
       "truncation_type": null
      },
      "text/html": [
       "<div>\n",
       "<style scoped>\n",
       "    .dataframe tbody tr th:only-of-type {\n",
       "        vertical-align: middle;\n",
       "    }\n",
       "\n",
       "    .dataframe tbody tr th {\n",
       "        vertical-align: top;\n",
       "    }\n",
       "\n",
       "    .dataframe thead th {\n",
       "        text-align: right;\n",
       "    }\n",
       "</style>\n",
       "<table border=\"1\" class=\"dataframe\">\n",
       "  <thead>\n",
       "    <tr style=\"text-align: right;\">\n",
       "      <th></th>\n",
       "      <th>stay</th>\n",
       "      <th>count_int</th>\n",
       "      <th>average_phq</th>\n",
       "      <th>average_scs</th>\n",
       "      <th>average_as</th>\n",
       "    </tr>\n",
       "  </thead>\n",
       "  <tbody>\n",
       "    <tr>\n",
       "      <th>0</th>\n",
       "      <td>10</td>\n",
       "      <td>1</td>\n",
       "      <td>13.00</td>\n",
       "      <td>32.00</td>\n",
       "      <td>50.00</td>\n",
       "    </tr>\n",
       "    <tr>\n",
       "      <th>1</th>\n",
       "      <td>8</td>\n",
       "      <td>1</td>\n",
       "      <td>10.00</td>\n",
       "      <td>44.00</td>\n",
       "      <td>65.00</td>\n",
       "    </tr>\n",
       "    <tr>\n",
       "      <th>2</th>\n",
       "      <td>7</td>\n",
       "      <td>1</td>\n",
       "      <td>4.00</td>\n",
       "      <td>48.00</td>\n",
       "      <td>45.00</td>\n",
       "    </tr>\n",
       "    <tr>\n",
       "      <th>3</th>\n",
       "      <td>6</td>\n",
       "      <td>3</td>\n",
       "      <td>6.00</td>\n",
       "      <td>38.00</td>\n",
       "      <td>58.67</td>\n",
       "    </tr>\n",
       "    <tr>\n",
       "      <th>4</th>\n",
       "      <td>5</td>\n",
       "      <td>1</td>\n",
       "      <td>0.00</td>\n",
       "      <td>34.00</td>\n",
       "      <td>91.00</td>\n",
       "    </tr>\n",
       "    <tr>\n",
       "      <th>5</th>\n",
       "      <td>4</td>\n",
       "      <td>14</td>\n",
       "      <td>8.57</td>\n",
       "      <td>33.93</td>\n",
       "      <td>87.71</td>\n",
       "    </tr>\n",
       "    <tr>\n",
       "      <th>6</th>\n",
       "      <td>3</td>\n",
       "      <td>46</td>\n",
       "      <td>9.09</td>\n",
       "      <td>37.13</td>\n",
       "      <td>78.00</td>\n",
       "    </tr>\n",
       "    <tr>\n",
       "      <th>7</th>\n",
       "      <td>2</td>\n",
       "      <td>39</td>\n",
       "      <td>8.28</td>\n",
       "      <td>37.08</td>\n",
       "      <td>77.67</td>\n",
       "    </tr>\n",
       "    <tr>\n",
       "      <th>8</th>\n",
       "      <td>1</td>\n",
       "      <td>95</td>\n",
       "      <td>7.48</td>\n",
       "      <td>38.11</td>\n",
       "      <td>72.80</td>\n",
       "    </tr>\n",
       "  </tbody>\n",
       "</table>\n",
       "</div>"
      ],
      "text/plain": [
       "   stay  count_int  average_phq  average_scs  average_as\n",
       "0    10          1        13.00        32.00       50.00\n",
       "1     8          1        10.00        44.00       65.00\n",
       "2     7          1         4.00        48.00       45.00\n",
       "3     6          3         6.00        38.00       58.67\n",
       "4     5          1         0.00        34.00       91.00\n",
       "5     4         14         8.57        33.93       87.71\n",
       "6     3         46         9.09        37.13       78.00\n",
       "7     2         39         8.28        37.08       77.67\n",
       "8     1         95         7.48        38.11       72.80"
      ]
     },
     "execution_count": 3,
     "metadata": {
      "application/com.datacamp.data-table.v2+json": {
       "status": "success"
      }
     },
     "output_type": "execute_result"
    }
   ],
   "source": [
    "SELECT stay, COUNT(inter_dom) AS count_int, ROUND(AVG(todep),2) AS average_phq, ROUND(AVG(tosc),2) AS average_scs,ROUND(AVG(toas),2)AS average_as\n",
    "FROM students\n",
    "WHERE inter_dom = 'Inter'\n",
    "GROUP BY stay\n",
    "ORDER BY stay DESC\n",
    "LIMIT 9;\n"
   ]
  }
 ],
 "metadata": {
  "colab": {
   "name": "Welcome to DataCamp Workspaces.ipynb",
   "provenance": []
  },
  "kernelspec": {
   "display_name": "Python 3 (ipykernel)",
   "language": "python",
   "name": "python3"
  },
  "language_info": {
   "codemirror_mode": {
    "name": "ipython",
    "version": 3
   },
   "file_extension": ".py",
   "mimetype": "text/x-python",
   "name": "python",
   "nbconvert_exporter": "python",
   "pygments_lexer": "ipython3",
   "version": "3.9.12"
  }
 },
 "nbformat": 4,
 "nbformat_minor": 5
}
